{
 "cells": [
  {
   "attachments": {},
   "cell_type": "markdown",
   "metadata": {},
   "source": [
    "# House Price Prediction - Modelling"
   ]
  },
  {
   "attachments": {},
   "cell_type": "markdown",
   "metadata": {},
   "source": [
    "This analysis deals with the prediction of house prices based on the house's properties. The prediction is based on a sample of houses from Ames, Iowa. The dataset itself is obtained from [Kaggle](https://www.kaggle.com/competitions/house-prices-advanced-regression-techniques) as part of a competition."
   ]
  },
  {
   "attachments": {},
   "cell_type": "markdown",
   "metadata": {},
   "source": [
    "## Extract-Transform-Load (ETL)"
   ]
  },
  {
   "cell_type": "code",
   "execution_count": null,
   "metadata": {},
   "outputs": [],
   "source": [
    "import pandas as pd\n",
    "import numpy as np"
   ]
  },
  {
   "cell_type": "code",
   "execution_count": null,
   "metadata": {},
   "outputs": [],
   "source": [
    "houses_train = pd.read_csv(\"../data/modelling/train.csv\")\n",
    "houses_validation = pd.read_csv(\"../data/modelling/validation.csv\")"
   ]
  },
  {
   "attachments": {},
   "cell_type": "markdown",
   "metadata": {},
   "source": [
    "## Feature Selection"
   ]
  },
  {
   "attachments": {},
   "cell_type": "markdown",
   "metadata": {},
   "source": [
    "In this section, we will select the features that we will use for our model. For a first baseline model, we will use the whole feature set. We will then use feature selection techniques to reduce the number of features and improve the model's performance."
   ]
  },
  {
   "cell_type": "code",
   "execution_count": null,
   "metadata": {},
   "outputs": [],
   "source": [
    "import matplotlib.pyplot as plt\n",
    "import seaborn as sns\n",
    "from sklearn.pipeline import Pipeline\n",
    "from sklearn.impute import SimpleImputer\n",
    "from sklearn.preprocessing import OneHotEncoder, StandardScaler, OrdinalEncoder\n",
    "from house_prices.modelling import build_transformer, ORDINAL_FEATURE_MAPPINGS"
   ]
  },
  {
   "attachments": {},
   "cell_type": "markdown",
   "metadata": {},
   "source": [
    "First we check the correlation of the features with the target variable `SalePrice` and among each other. It is important to note that we only consider numerical features for this analysis and also only a linear relationships are considered."
   ]
  },
  {
   "cell_type": "code",
   "execution_count": null,
   "metadata": {},
   "outputs": [],
   "source": [
    "corr_matrix = houses_train.select_dtypes(include=\"number\").corr().round(2)\n",
    "\n",
    "fig = plt.figure(figsize=(15, 15))\n",
    "\n",
    "mask = np.triu(np.ones_like(corr_matrix, dtype=bool))\n",
    "cmap = sns.diverging_palette(230, 20, as_cmap=True)\n",
    "\n",
    "ax = fig.add_subplot(1, 1, 1)\n",
    "ax.set_title(\"Correlation Heatmap of Numeric Features\")\n",
    "sns.heatmap(corr_matrix, annot=True, ax=ax, cmap=cmap, mask=mask, annot_kws={\"fontsize\": 6})\n",
    "\n",
    "plt.show()"
   ]
  },
  {
   "attachments": {},
   "cell_type": "markdown",
   "metadata": {},
   "source": [
    "Next we take a look at outliers in the data. We will remove the outliers from the training set."
   ]
  },
  {
   "cell_type": "code",
   "execution_count": null,
   "metadata": {},
   "outputs": [],
   "source": [
    "fig = plt.figure(figsize=(15, 15))\n",
    "\n",
    "for index, feature in enumerate(houses_train.select_dtypes(include=\"number\").columns):\n",
    "  ax = fig.add_subplot(houses_train.select_dtypes(include=\"number\").shape[1] // 5 + 1, 5, index + 1)\n",
    "  ax.set_title(feature)\n",
    "  sns.scatterplot(x=feature, y=\"SalePrice\", data=houses_train, ax=ax)\n",
    "\n",
    "plt.tight_layout()\n",
    "plt.show()"
   ]
  },
  {
   "attachments": {},
   "cell_type": "markdown",
   "metadata": {},
   "source": [
    "Next we take a look at the categorical features. We filter variables that largely have the same value and therefore a low variance."
   ]
  },
  {
   "cell_type": "code",
   "execution_count": null,
   "metadata": {},
   "outputs": [],
   "source": [
    "categorical_features = houses_train.select_dtypes(include=\"object\").columns\n",
    "categorical_features_equality = houses_train[categorical_features].apply(lambda x: x.value_counts().max() / x.value_counts().sum())\n",
    "categorical_features_equality = categorical_features_equality[categorical_features_equality > 0.95]\n",
    "\n",
    "print(categorical_features_equality)"
   ]
  },
  {
   "attachments": {},
   "cell_type": "markdown",
   "metadata": {},
   "source": [
    "Finally we transform the selected features to a form that can be used by the model. A similar transformation will be applied to the data inside of the machine learning pipeline."
   ]
  },
  {
   "cell_type": "code",
   "execution_count": null,
   "metadata": {},
   "outputs": [],
   "source": [
    "ordinal_pipeline = Pipeline([\n",
    "  (\"imputer\", SimpleImputer(strategy=\"most_frequent\")),\n",
    "  (\"encoder\", OrdinalEncoder(categories=[value for key, value in ORDINAL_FEATURE_MAPPINGS.items()], dtype=int)),\n",
    "])\n",
    "\n",
    "binary_pipeline = Pipeline([\n",
    "  (\"imputer\", SimpleImputer(strategy=\"most_frequent\")),\n",
    "  (\"encoder\", OneHotEncoder(handle_unknown=\"ignore\")),\n",
    "])\n",
    "\n",
    "numerical_pipeline = Pipeline([\n",
    "  (\"imputer\", SimpleImputer(strategy=\"mean\")),\n",
    "  (\"scaler\", StandardScaler()),\n",
    "])\n",
    "\n",
    "transformer = build_transformer(houses_train, ordinal_pipeline, binary_pipeline, numerical_pipeline)\n",
    "\n",
    "houses_train_transformed = transformer.fit_transform(houses_train)\n",
    "houses_train_transformed = pd.DataFrame(houses_train_transformed, columns=transformer.get_feature_names_out())\n",
    "\n",
    "houses_train_transformed"
   ]
  }
 ],
 "metadata": {
  "kernelspec": {
   "display_name": "Python 3",
   "language": "python",
   "name": "python3"
  },
  "language_info": {
   "codemirror_mode": {
    "name": "ipython",
    "version": 3
   },
   "file_extension": ".py",
   "mimetype": "text/x-python",
   "name": "python",
   "nbconvert_exporter": "python",
   "pygments_lexer": "ipython3",
   "version": "3.10.11"
  }
 },
 "nbformat": 4,
 "nbformat_minor": 2
}

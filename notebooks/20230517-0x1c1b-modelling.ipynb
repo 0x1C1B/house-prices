{
 "cells": [
  {
   "attachments": {},
   "cell_type": "markdown",
   "metadata": {},
   "source": [
    "# House Price Prediction - Modelling"
   ]
  },
  {
   "attachments": {},
   "cell_type": "markdown",
   "metadata": {},
   "source": [
    "This analysis deals with the prediction of house prices based on the house's properties. The prediction is based on a sample of houses from Ames, Iowa. The dataset itself is obtained from [Kaggle](https://www.kaggle.com/competitions/house-prices-advanced-regression-techniques) as part of a competition."
   ]
  },
  {
   "attachments": {},
   "cell_type": "markdown",
   "metadata": {},
   "source": [
    "## Extract-Transform-Load (ETL)"
   ]
  },
  {
   "cell_type": "code",
   "execution_count": null,
   "metadata": {},
   "outputs": [],
   "source": [
    "import pandas as pd"
   ]
  },
  {
   "cell_type": "code",
   "execution_count": null,
   "metadata": {},
   "outputs": [],
   "source": [
    "houses_train = pd.read_csv(\"../data/modelling/train.csv\")\n",
    "houses_validation = pd.read_csv(\"../data/modelling/validation.csv\")"
   ]
  },
  {
   "attachments": {},
   "cell_type": "markdown",
   "metadata": {},
   "source": [
    "## Evaluation"
   ]
  },
  {
   "cell_type": "code",
   "execution_count": null,
   "metadata": {},
   "outputs": [],
   "source": [
    "import joblib\n",
    "import matplotlib.pyplot as plt\n",
    "from sklearn.metrics import mean_squared_error, mean_squared_log_error"
   ]
  },
  {
   "cell_type": "code",
   "execution_count": null,
   "metadata": {},
   "outputs": [],
   "source": [
    "pd.concat([houses_train[\"SalePrice\"], houses_validation[\"SalePrice\"]]).describe()"
   ]
  },
  {
   "attachments": {},
   "cell_type": "markdown",
   "metadata": {},
   "source": [
    "### Linear Regression"
   ]
  },
  {
   "attachments": {},
   "cell_type": "markdown",
   "metadata": {},
   "source": [
    "As a baseline model, we trained a linear regression model on the dataset. The model was trained on the training set and evaluated on the test set."
   ]
  },
  {
   "cell_type": "code",
   "execution_count": null,
   "metadata": {},
   "outputs": [],
   "source": [
    "lm_model = joblib.load(\"../models/lm.joblib\")"
   ]
  },
  {
   "cell_type": "code",
   "execution_count": null,
   "metadata": {},
   "outputs": [],
   "source": [
    "lm_prediction_train = lm_model.predict(houses_train.drop(columns=[\"SalePrice\"]))\n",
    "lm_rmse_train = mean_squared_error(houses_train[\"SalePrice\"], lm_prediction_train, squared=False)\n",
    "lm_rmsle_train = mean_squared_log_error(houses_train[\"SalePrice\"], lm_prediction_train, squared=False)\n",
    "\n",
    "lm_prediction_validation = lm_model.predict(houses_validation.drop(columns=[\"SalePrice\"]))\n",
    "lm_rmse_validation = mean_squared_error(houses_validation[\"SalePrice\"], lm_prediction_validation, squared=False)\n",
    "lm_rmsle_validation = mean_squared_log_error(houses_validation[\"SalePrice\"], lm_prediction_validation, squared=False)"
   ]
  },
  {
   "cell_type": "code",
   "execution_count": null,
   "metadata": {},
   "outputs": [],
   "source": [
    "print(f\"Linear regression train error (RMSE): {lm_rmse_train}\")\n",
    "print(f\"Linear regression train error (RMSLE): {lm_rmsle_train}\")\n",
    "print(f\"Linear regression validation error (RMSE): {lm_rmse_validation}\")\n",
    "print(f\"Linear regression validation error (RMSLE): {lm_rmsle_validation}\")"
   ]
  },
  {
   "attachments": {},
   "cell_type": "markdown",
   "metadata": {},
   "source": [
    "### Linear Ridge Regression"
   ]
  },
  {
   "attachments": {},
   "cell_type": "markdown",
   "metadata": {},
   "source": [
    "A simple linear regression model with ridge regularization was trained on the dataset."
   ]
  },
  {
   "cell_type": "code",
   "execution_count": null,
   "metadata": {},
   "outputs": [],
   "source": [
    "lm_ridge_model = joblib.load(\"../models/lm_ridge.joblib\")"
   ]
  },
  {
   "cell_type": "code",
   "execution_count": null,
   "metadata": {},
   "outputs": [],
   "source": [
    "lm_ridge_prediction_train = lm_ridge_model.predict(houses_train.drop(columns=[\"SalePrice\"]))\n",
    "lm_ridge_rmse_train = mean_squared_error(houses_train[\"SalePrice\"], lm_ridge_prediction_train, squared=False)\n",
    "lm_ridge_rmsle_train = mean_squared_log_error(houses_train[\"SalePrice\"], lm_ridge_prediction_train, squared=False)\n",
    "\n",
    "lm_ridge_prediction_validation = lm_ridge_model.predict(houses_validation.drop(columns=[\"SalePrice\"]))\n",
    "lm_ridge_rmse_validation = mean_squared_error(houses_validation[\"SalePrice\"], lm_ridge_prediction_validation, squared=False)\n",
    "lm_ridge_rmsle_validation = mean_squared_log_error(houses_validation[\"SalePrice\"], lm_ridge_prediction_validation, squared=False)"
   ]
  },
  {
   "cell_type": "code",
   "execution_count": null,
   "metadata": {},
   "outputs": [],
   "source": [
    "print(f\"Linear ridge regression train error (RMSE): {lm_ridge_rmse_train}\")\n",
    "print(f\"Linear ridge regression train error (RMSLE): {lm_ridge_rmsle_train}\")\n",
    "print(f\"Linear ridge regression validation error (RMSE): {lm_ridge_rmse_validation}\")\n",
    "print(f\"Linear ridge regression validation error (RMSLE): {lm_ridge_rmsle_validation}\")"
   ]
  },
  {
   "attachments": {},
   "cell_type": "markdown",
   "metadata": {},
   "source": [
    "## Conclusion"
   ]
  },
  {
   "attachments": {},
   "cell_type": "markdown",
   "metadata": {},
   "source": [
    "Finally, we compare the results of all trained models. As metrics, we use the root mean squared error (RMSE) and the logarithm of the RMSE (RMSLE)."
   ]
  },
  {
   "cell_type": "code",
   "execution_count": null,
   "metadata": {},
   "outputs": [],
   "source": [
    "model_performance = pd.DataFrame({\n",
    "    \"Model\": [\"Linear Regression\", \"Linear Ridge Regression\"],\n",
    "    \"RMSE (Train)\": [lm_rmse_train, lm_ridge_rmse_train],\n",
    "    \"RMSLE (Train)\": [lm_rmsle_train, lm_ridge_rmsle_train],\n",
    "    \"RMSE (Validation)\": [lm_rmse_validation, lm_ridge_rmse_validation],\n",
    "    \"RMSLE (Validation)\": [lm_rmsle_validation, lm_ridge_rmsle_validation],\n",
    "})\n",
    "\n",
    "model_performance"
   ]
  },
  {
   "cell_type": "code",
   "execution_count": null,
   "metadata": {},
   "outputs": [],
   "source": [
    "fig = plt.figure(figsize=(15, 5))\n",
    "\n",
    "ax1 = fig.add_subplot(1, 2, 1)\n",
    "ax1.set_title(\"Comparison of model performance on train set\")\n",
    "ax1.bar(model_performance[\"Model\"], model_performance[\"RMSE (Train)\"])\n",
    "ax1.tick_params(axis=\"x\", rotation=90)\n",
    "ax1.set_xlabel(\"Model\")\n",
    "ax1.set_ylabel(\"RMSE\")\n",
    "\n",
    "ax2 = fig.add_subplot(1, 2, 2)\n",
    "ax2.set_title(\"Comparison of model performance on validation set\")\n",
    "ax2.bar(model_performance[\"Model\"], model_performance[\"RMSE (Validation)\"])\n",
    "ax2.tick_params(axis=\"x\", rotation=90)\n",
    "ax2.set_xlabel(\"Model\")\n",
    "ax2.set_ylabel(\"RMSE\")\n",
    "\n",
    "plt.show()"
   ]
  }
 ],
 "metadata": {
  "kernelspec": {
   "display_name": "Python 3",
   "language": "python",
   "name": "python3"
  },
  "language_info": {
   "codemirror_mode": {
    "name": "ipython",
    "version": 3
   },
   "file_extension": ".py",
   "mimetype": "text/x-python",
   "name": "python",
   "nbconvert_exporter": "python",
   "pygments_lexer": "ipython3",
   "version": "3.10.11"
  }
 },
 "nbformat": 4,
 "nbformat_minor": 2
}

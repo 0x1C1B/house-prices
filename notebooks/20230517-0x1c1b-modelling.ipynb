{
 "cells": [
  {
   "attachments": {},
   "cell_type": "markdown",
   "metadata": {},
   "source": [
    "# House Price Prediction - Modelling"
   ]
  },
  {
   "attachments": {},
   "cell_type": "markdown",
   "metadata": {},
   "source": [
    "This analysis deals with the prediction of house prices based on the house's properties. The prediction is based on a sample of houses from Ames, Iowa. The dataset itself is obtained from [Kaggle](https://www.kaggle.com/competitions/house-prices-advanced-regression-techniques) as part of a competition."
   ]
  },
  {
   "attachments": {},
   "cell_type": "markdown",
   "metadata": {},
   "source": [
    "## Extract-Transform-Load (ETL)"
   ]
  },
  {
   "cell_type": "code",
   "execution_count": null,
   "metadata": {},
   "outputs": [],
   "source": [
    "import pandas as pd"
   ]
  },
  {
   "cell_type": "code",
   "execution_count": null,
   "metadata": {},
   "outputs": [],
   "source": [
    "houses_train = pd.read_csv(\"../data/modelling/train.csv\")\n",
    "houses_validation = pd.read_csv(\"../data/modelling/validation.csv\")"
   ]
  },
  {
   "attachments": {},
   "cell_type": "markdown",
   "metadata": {},
   "source": [
    "## Evaluation"
   ]
  },
  {
   "cell_type": "code",
   "execution_count": null,
   "metadata": {},
   "outputs": [],
   "source": [
    "import joblib\n",
    "from sklearn.metrics import mean_squared_error, mean_squared_log_error"
   ]
  },
  {
   "cell_type": "code",
   "execution_count": null,
   "metadata": {},
   "outputs": [],
   "source": [
    "pd.concat([houses_train[\"SalePrice\"], houses_validation[\"SalePrice\"]]).describe()"
   ]
  },
  {
   "attachments": {},
   "cell_type": "markdown",
   "metadata": {},
   "source": [
    "### Linear Regression"
   ]
  },
  {
   "attachments": {},
   "cell_type": "markdown",
   "metadata": {},
   "source": [
    "As a baseline model, we trained a linear regression model on the dataset. The model was trained on the training set and evaluated on the test set."
   ]
  },
  {
   "cell_type": "code",
   "execution_count": null,
   "metadata": {},
   "outputs": [],
   "source": [
    "lm_model = joblib.load(\"../models/lm.joblib\")"
   ]
  },
  {
   "cell_type": "code",
   "execution_count": null,
   "metadata": {},
   "outputs": [],
   "source": [
    "lm_prediction_train = lm_model.predict(houses_train.drop(columns=[\"SalePrice\"]))\n",
    "lm_rmse_train = mean_squared_error(houses_train[\"SalePrice\"], lm_prediction_train, squared=False)\n",
    "lm_rmsle_train = mean_squared_log_error(houses_train[\"SalePrice\"], lm_prediction_train, squared=False)\n",
    "\n",
    "lm_prediction_validation = lm_model.predict(houses_validation.drop(columns=[\"SalePrice\"]))\n",
    "lm_rmse_validation = mean_squared_error(houses_validation[\"SalePrice\"], lm_prediction_validation, squared=False)\n",
    "lm_rmsle_validation = mean_squared_log_error(houses_validation[\"SalePrice\"], lm_prediction_validation, squared=False)"
   ]
  },
  {
   "cell_type": "code",
   "execution_count": null,
   "metadata": {},
   "outputs": [],
   "source": [
    "print(f\"Error of linear regression model on train set (RMSE): {lm_rmse_train}\")\n",
    "print(f\"Error of linear regression model on train set (RMSLE): {lm_rmsle_train}\")\n",
    "print(f\"Error of linear regression model on validation set (RMSE): {lm_rmse_validation}\")\n",
    "print(f\"Error of linear regression model on validation set (RMSLE): {lm_rmsle_validation}\")"
   ]
  }
 ],
 "metadata": {
  "kernelspec": {
   "display_name": "Python 3",
   "language": "python",
   "name": "python3"
  },
  "language_info": {
   "codemirror_mode": {
    "name": "ipython",
    "version": 3
   },
   "file_extension": ".py",
   "mimetype": "text/x-python",
   "name": "python",
   "nbconvert_exporter": "python",
   "pygments_lexer": "ipython3",
   "version": "3.10.11"
  }
 },
 "nbformat": 4,
 "nbformat_minor": 2
}

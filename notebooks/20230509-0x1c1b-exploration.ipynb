{
 "cells": [
  {
   "attachments": {},
   "cell_type": "markdown",
   "metadata": {},
   "source": [
    "# House Price Prediction - Exploration"
   ]
  },
  {
   "attachments": {},
   "cell_type": "markdown",
   "metadata": {},
   "source": [
    "This analysis deals with the prediction of house prices based on the house's properties. The prediction is based on a sample of houses from Ames, Iowa. The dataset itself is obtained from [Kaggle](https://www.kaggle.com/competitions/house-prices-advanced-regression-techniques) as part of a competition."
   ]
  },
  {
   "attachments": {},
   "cell_type": "markdown",
   "metadata": {},
   "source": [
    "## Extract-Transform-Load (ETL)"
   ]
  },
  {
   "cell_type": "code",
   "execution_count": null,
   "metadata": {},
   "outputs": [],
   "source": [
    "import pandas as pd"
   ]
  },
  {
   "cell_type": "code",
   "execution_count": null,
   "metadata": {},
   "outputs": [],
   "source": [
    "houses = pd.read_csv(\"../data/raw/train.csv\")\n",
    "houses.set_index(\"Id\", inplace=True)"
   ]
  },
  {
   "cell_type": "code",
   "execution_count": null,
   "metadata": {},
   "outputs": [],
   "source": [
    "houses.head()"
   ]
  },
  {
   "attachments": {},
   "cell_type": "markdown",
   "metadata": {},
   "source": [
    "We have round about eighty numerical/categorical input features and one target variable, containing the price of the respective house."
   ]
  },
  {
   "attachments": {},
   "cell_type": "markdown",
   "metadata": {},
   "source": [
    "## Exporative Data Analysis (EDA)"
   ]
  },
  {
   "cell_type": "code",
   "execution_count": null,
   "metadata": {},
   "outputs": [],
   "source": [
    "import matplotlib.pyplot as plt"
   ]
  },
  {
   "attachments": {},
   "cell_type": "markdown",
   "metadata": {},
   "source": [
    "First of all, we want to get a feeling for the data. Therefore, we will have a look at the distribution of the target variable and the correlation between the input features and the target variable. As a first step, we will take a look at missing values, later on we will have a look at the different types of features and their distribution."
   ]
  },
  {
   "cell_type": "code",
   "execution_count": null,
   "metadata": {},
   "outputs": [],
   "source": [
    "houses.isna().sum()[houses.isna().sum() > 0].sort_values(ascending=False)"
   ]
  },
  {
   "attachments": {},
   "cell_type": "markdown",
   "metadata": {},
   "source": [
    "### Building"
   ]
  },
  {
   "attachments": {},
   "cell_type": "markdown",
   "metadata": {},
   "source": [
    "First of all let's take a look at the type of house. These include the type of house, the year it was built, any renovations and the condition of the facade and roof. The following features are included:\n",
    "\n",
    "- `MSSubClass`:     Identifies the type of dwelling involved in the sale.\n",
    "- `BldgType`:       Type of dwelling.\n",
    "- `HouseStyle`:     Style of dwelling.\n",
    "- `YearBuilt`:      Original construction date.\n",
    "- `YearRemodAdd`:   Remodel date (same as construction date if no remodeling or additions).\n",
    "- `RoofStyle`:      Type of roof.\n",
    "- `RoofMatl`:       Roof material.\n",
    "- `Exterior1st`:    Exterior covering on house.\n",
    "- `Exterior2nd`:    Exterior covering on house (if more than one material).\n",
    "- `ExterQual`:      Exterior material quality.\n",
    "- `ExterCond`:      Present condition of the material on the exterior.\n",
    "- `MasVnrType`:     Masonry veneer type.\n",
    "- `MasVnrArea`:     Masonry veneer area in square feet.\n",
    "- `Foundation`:     Type of foundation.\n",
    "- `OverallQual`:    Rates the overall material and finish of the house.\n",
    "- `OverallCond`:    Rates the overall condition of the house."
   ]
  },
  {
   "cell_type": "code",
   "execution_count": null,
   "metadata": {},
   "outputs": [],
   "source": [
    "houses[[\"MSSubClass\",\n",
    "        \"BldgType\",\n",
    "        \"HouseStyle\",\n",
    "        \"YearBuilt\",\n",
    "        \"YearRemodAdd\",\n",
    "        \"RoofStyle\",\n",
    "        \"RoofMatl\",\n",
    "        \"Exterior1st\",\n",
    "        \"Exterior2nd\",\n",
    "        \"ExterQual\",\n",
    "        \"ExterCond\",\n",
    "        \"MasVnrType\",\n",
    "        \"MasVnrArea\",\n",
    "        \"Foundation\"]].info()"
   ]
  },
  {
   "cell_type": "code",
   "execution_count": null,
   "metadata": {},
   "outputs": [],
   "source": [
    "houses[[\"MSSubClass\",\n",
    "        \"BldgType\",\n",
    "        \"HouseStyle\",\n",
    "        \"YearBuilt\",\n",
    "        \"YearRemodAdd\",\n",
    "        \"RoofStyle\",\n",
    "        \"RoofMatl\",\n",
    "        \"Exterior1st\",\n",
    "        \"Exterior2nd\",\n",
    "        \"ExterQual\",\n",
    "        \"ExterCond\",\n",
    "        \"MasVnrType\",\n",
    "        \"MasVnrArea\",\n",
    "        \"Foundation\"]].isna().sum()"
   ]
  },
  {
   "cell_type": "code",
   "execution_count": null,
   "metadata": {},
   "outputs": [],
   "source": [
    "houses[\"MSSubClass\"].replace({\n",
    "    20: \"1-STORY 1946 & NEWER ALL STYLES (20)\",\n",
    "    30: \"1-STORY 1945 & OLDER (30)\",\n",
    "    40: \"1-STORY W/FINISHED ATTIC ALL AGES (40)\",\n",
    "    45: \"1-1/2 STORY - UNFINISHED ALL AGES (45)\",\n",
    "    50: \"1-1/2 STORY FINISHED ALL AGES (50)\",\n",
    "    60: \"2-STORY 1946 & NEWER (60)\",\n",
    "    70: \"2-STORY 1945 & OLDER (70)\",\n",
    "    75: \"2-1/2 STORY ALL AGES (75)\",\n",
    "    80: \"SPLIT OR MULTI-LEVEL (80)\",\n",
    "    85: \"SPLIT FOYER (85)\",\n",
    "    90: \"DUPLEX - ALL STYLES AND AGES (90)\",\n",
    "    120: \"1-STORY PUD (Planned Unit Development) - 1946 & NEWER (120)\",\n",
    "    150: \"1-1/2 STORY PUD - ALL AGES (150)\",\n",
    "    160: \"2-STORY PUD - 1946 & NEWER (160)\",\n",
    "    180: \"PUD - MULTILEVEL - INCL SPLIT LEV/FOYER (180)\",\n",
    "    190: \"2 FAMILY CONVERSION - ALL STYLES AND AGES (190)\"}, inplace=True)\n",
    "\n",
    "houses[\"BldgType\"].replace({\n",
    "    \"1Fam\": \"Single-family Detached (1Fam)\",\n",
    "    \"2FmCon\": \"Two-family Conversion; originally built as one-family dwelling (2FmCon)\",\n",
    "    \"Duplx\": \"Duplex (Duplx)\",\n",
    "    \"TwnhsE\": \"Townhouse End Unit (TwnhsE)\",\n",
    "    \"TwnhsI\": \"Townhouse Inside Unit (TwnhsI)\"}, inplace=True)\n",
    "\n",
    "houses[\"HouseStyle\"].replace({\n",
    "    \"1Story\": \"One story (1Story)\",\n",
    "    \"1.5Fin\": \"One and one-half story: 2nd level finished (1.5Fin)\",\n",
    "    \"1.5Unf\": \"One and one-half story: 2nd level unfinished (1.5Unf)\",\n",
    "    \"2Story\": \"Two story (2Story)\",\n",
    "    \"2.5Fin\": \"Two and one-half story: 2nd level finished (2.5Fin)\",\n",
    "    \"2.5Unf\": \"Two and one-half story: 2nd level unfinished (2.5Unf)\",\n",
    "    \"SFoyer\": \"Split Foyer (SFoyer)\",\n",
    "    \"SLvl\": \"Split Level (SLvl)\"}, inplace=True)\n",
    "\n",
    "houses[\"OverallCond\"].replace({\n",
    "    10: \"Very Excellent (10)\",\n",
    "    9: \"Excellent (9)\",\n",
    "    8: \"Very Good (8)\",\n",
    "    7: \"Good (7)\",\n",
    "    6: \"Above Average (6)\",\n",
    "    5: \"Average (5)\",\n",
    "    4: \"Below Average (4)\",\n",
    "    3: \"Fair (3)\",\n",
    "    2: \"Poor (2)\",\n",
    "    1: \"Very Poor (1)\"}, inplace=True)\n",
    "\n",
    "houses[\"OverallQual\"].replace({\n",
    "    10: \"Very Excellent (10)\",\n",
    "    9: \"Excellent (9)\",\n",
    "    8: \"Very Good (8)\",\n",
    "    7: \"Good (7)\",\n",
    "    6: \"Above Average (6)\",\n",
    "    5: \"Average (5)\",\n",
    "    4: \"Below Average (4)\",\n",
    "    3: \"Fair (3)\",\n",
    "    2: \"Poor (2)\",\n",
    "    1: \"Very Poor (1)\"}, inplace=True)"
   ]
  },
  {
   "cell_type": "code",
   "execution_count": null,
   "metadata": {},
   "outputs": [],
   "source": [
    "overall_quality_counts = houses.groupby(\"OverallQual\")[\"OverallQual\"].count().sort_values(ascending=False)\n",
    "overall_condition_counts = houses.groupby(\"OverallCond\")[\"OverallCond\"].count().sort_values(ascending=False)\n",
    "\n",
    "fig = plt.figure(figsize=(15, 5))\n",
    "\n",
    "ax1 = fig.add_subplot(1, 2, 1)\n",
    "ax1.set_title(\"Distribution of overall quality\")\n",
    "ax1.pie(overall_quality_counts)\n",
    "ax1.legend(labels=overall_quality_counts.index)\n",
    "\n",
    "ax2 = fig.add_subplot(1, 2, 2)\n",
    "ax2.set_title(\"Distribution of overall condition\")\n",
    "ax2.pie(overall_condition_counts)\n",
    "ax2.legend(labels=overall_condition_counts.index)\n",
    "\n",
    "plt.show()"
   ]
  },
  {
   "cell_type": "code",
   "execution_count": null,
   "metadata": {},
   "outputs": [],
   "source": [
    "house_type_counts = houses.groupby(\"MSSubClass\")[\"MSSubClass\"].count().sort_values(ascending=False)\n",
    "\n",
    "fig = plt.figure(figsize=(10, 5))\n",
    "\n",
    "ax = fig.add_subplot(1, 1, 1)\n",
    "ax.set_title(\"Distribution of the house types\")\n",
    "ax.barh(house_type_counts.index, house_type_counts)\n",
    "ax.tick_params(axis=\"x\", rotation=90)\n",
    "\n",
    "plt.show()"
   ]
  },
  {
   "cell_type": "code",
   "execution_count": null,
   "metadata": {},
   "outputs": [],
   "source": [
    "building_type_counts = houses.groupby(\"BldgType\")[\"BldgType\"].count().sort_values(ascending=False)\n",
    "house_style_counts = houses.groupby(\"HouseStyle\")[\"HouseStyle\"].count().sort_values(ascending=False)\n",
    "\n",
    "fig = plt.figure(figsize=(15, 5))\n",
    "\n",
    "ax1 = fig.add_subplot(1, 2, 1)\n",
    "ax1.set_title(\"Distribution of building types\")\n",
    "ax1.pie(building_type_counts)\n",
    "ax1.legend(labels=building_type_counts.index)\n",
    "\n",
    "ax2 = fig.add_subplot(1, 2, 2)\n",
    "ax2.set_title(\"Distribution of house styles\")\n",
    "ax2.pie(house_style_counts)\n",
    "ax2.legend(labels=house_style_counts.index)\n",
    "\n",
    "plt.show()"
   ]
  },
  {
   "cell_type": "code",
   "execution_count": null,
   "metadata": {},
   "outputs": [],
   "source": [
    "fig = plt.figure(figsize=(15, 5))\n",
    "\n",
    "ax1 = fig.add_subplot(1, 2, 1)\n",
    "ax1.set_title(\"Distribution of built years\")\n",
    "ax1.hist(houses[\"YearBuilt\"], bins=20)\n",
    "\n",
    "ax2 = fig.add_subplot(1, 2, 2)\n",
    "ax2.set_title(\"Distribution of remodeled years\")\n",
    "ax2.hist(houses[\"YearRemodAdd\"], bins=20)\n",
    "\n",
    "plt.show()"
   ]
  },
  {
   "attachments": {},
   "cell_type": "markdown",
   "metadata": {},
   "source": [
    "In the documentation of the dataset is written that `None` is used for representing non existent masonary veneer. It seems that `NA` is used instead. We fix this by replacing `NA` with `None`. In addition some values of `MasVnrArea` are missing. We drop these lines later."
   ]
  },
  {
   "cell_type": "code",
   "execution_count": null,
   "metadata": {},
   "outputs": [],
   "source": [
    "houses[\"MasVnrType\"].fillna(\"None\", inplace=True)"
   ]
  },
  {
   "attachments": {},
   "cell_type": "markdown",
   "metadata": {},
   "source": [
    "### Lot/Property"
   ]
  },
  {
   "attachments": {},
   "cell_type": "markdown",
   "metadata": {},
   "source": [
    "In a further step, we consider the property independently of the house. This includes total area, incline and soil conditions.\n",
    "\n",
    "- `LotFrontage`:    Linear feet of street connected to property.\n",
    "- `LotArea`:        Lot size in square feet.\n",
    "- `LotShape`:       General shape of property. \n",
    "- `LotConfig`:      Lot configuration.\n",
    "- `LandContour`:    Flatness of the property.\n",
    "- `LandSlope`:      Slope of property."
   ]
  },
  {
   "cell_type": "code",
   "execution_count": null,
   "metadata": {},
   "outputs": [],
   "source": [
    "houses[[\"LotFrontage\", \"LotArea\", \"LotShape\", \"LotConfig\", \"LandContour\", \"LandSlope\"]].info()"
   ]
  },
  {
   "cell_type": "code",
   "execution_count": null,
   "metadata": {},
   "outputs": [],
   "source": [
    "houses[[\"LotFrontage\", \"LotArea\", \"LotShape\", \"LotConfig\", \"LandContour\", \"LandSlope\"]].isna().sum()"
   ]
  },
  {
   "cell_type": "code",
   "execution_count": null,
   "metadata": {},
   "outputs": [],
   "source": [
    "houses[\"LotFrontage\"][houses[\"LotFrontage\"] == 0].count()"
   ]
  },
  {
   "attachments": {},
   "cell_type": "markdown",
   "metadata": {},
   "source": [
    "A missing value in `LotFrontage` may represent a missing connection to the road. These could be houses that can be reached, for example, via a pedestrian path, but not by car. We will fill these missing values with zero."
   ]
  },
  {
   "cell_type": "code",
   "execution_count": null,
   "metadata": {},
   "outputs": [],
   "source": [
    "houses[\"LotFrontage\"].fillna(0, inplace=True)"
   ]
  },
  {
   "cell_type": "code",
   "execution_count": null,
   "metadata": {},
   "outputs": [],
   "source": [
    "houses[\"LotShape\"].replace({\n",
    "    \"Reg\": \"Regular (Reg)\",\n",
    "    \"IR1\": \"Slightly irregular (IR1)\",\n",
    "    \"IR2\": \"Moderately Irregular (IR2)\",\n",
    "    \"IR3\": \"Irregular (IR3)\"}, inplace=True)\n",
    "\n",
    "houses[\"LotConfig\"].replace({\n",
    "    \"Inside\": \"Inside lot (Inside)\",\n",
    "    \"Corner\": \"Corner lot (Corner)\",\n",
    "    \"CulDSac\": \"Cul-de-sac (CulDSac)\",\n",
    "    \"FR2\": \"Frontage on 2 sides of property (FR2)\",\n",
    "    \"FR3\": \"Frontage on 3 sides of property (FR3)\"}, inplace=True)\n",
    "\n",
    "houses[\"LandContour\"].replace({\n",
    "    \"Lvl\": \"Near Flat/Level (Lvl)\",\n",
    "    \"Bnk\": \"Banked - Quick and significant rise from street grade to building (Bnk)\",\n",
    "    \"HLS\": \"Hillside - Significant slope from side to side (HLS)\",\n",
    "    \"Low\": \"Depression (Low)\"}, inplace=True)\n",
    "\n",
    "houses[\"LandSlope\"].replace({\n",
    "    \"Gtl\": \"Gentle slope (Gtl)\",\n",
    "    \"Mod\": \"Moderate Slope (Mod)\",\n",
    "    \"Sev\": \"Severe Slope (Sev)\"}, inplace=True)"
   ]
  },
  {
   "cell_type": "code",
   "execution_count": null,
   "metadata": {},
   "outputs": [],
   "source": [
    "fig = plt.figure(figsize=(15, 5))\n",
    "\n",
    "ax1 = fig.add_subplot(1, 2, 1)\n",
    "ax1.set_title(\"Distribution of lot frontage (feet)\")\n",
    "ax1.hist(houses[\"LotFrontage\"].dropna(), bins=50)\n",
    "ax1.tick_params(axis=\"x\", rotation=90)\n",
    "\n",
    "ax2 = fig.add_subplot(1, 2, 2)\n",
    "ax2.set_title(\"Distribution of lot area (square feet)\")\n",
    "ax2.hist(houses[\"LotArea\"], bins=50)\n",
    "ax2.tick_params(axis=\"x\", rotation=90)\n",
    "\n",
    "plt.show()"
   ]
  },
  {
   "cell_type": "code",
   "execution_count": null,
   "metadata": {},
   "outputs": [],
   "source": [
    "houses[[\"LotFrontage\", \"LotArea\"]].dropna().describe()"
   ]
  },
  {
   "cell_type": "code",
   "execution_count": null,
   "metadata": {},
   "outputs": [],
   "source": [
    "lot_shape_counts = houses.groupby(\"LotShape\")[\"LotShape\"].count().sort_values(ascending=False)\n",
    "lot_config_counts = houses.groupby(\"LotConfig\")[\"LotConfig\"].count().sort_values(ascending=False)\n",
    "\n",
    "fig = plt.figure(figsize=(15, 5))\n",
    "\n",
    "ax1 = fig.add_subplot(1, 2, 1)\n",
    "ax1.set_title(\"Distribution of lot shapes\")\n",
    "ax1.pie(lot_shape_counts)\n",
    "ax1.legend(labels=lot_shape_counts.index)\n",
    "\n",
    "ax2 = fig.add_subplot(1, 2, 2)\n",
    "ax2.set_title(\"Distribution of lot configurations\")\n",
    "ax2.pie(lot_config_counts)\n",
    "ax2.legend(labels=lot_config_counts.index)\n",
    "\n",
    "plt.show()"
   ]
  },
  {
   "cell_type": "code",
   "execution_count": null,
   "metadata": {},
   "outputs": [],
   "source": [
    "land_slope_counts = houses.groupby(\"LandSlope\")[\"LandSlope\"].count().sort_values(ascending=False)\n",
    "land_contour_counts = houses.groupby(\"LandContour\")[\"LandContour\"].count().sort_values(ascending=False)\n",
    "\n",
    "fig = plt.figure(figsize=(15, 5))\n",
    "\n",
    "ax1 = fig.add_subplot(1, 2, 1)\n",
    "ax1.set_title(\"Distribution of land slopes\")\n",
    "ax1.pie(land_slope_counts)\n",
    "ax1.legend(labels=land_slope_counts.index)\n",
    "\n",
    "ax2 = fig.add_subplot(1, 2, 2)\n",
    "ax2.set_title(\"Distribution of land contours\")\n",
    "ax2.pie(land_contour_counts)\n",
    "ax2.legend(labels=land_contour_counts.index)\n",
    "\n",
    "plt.show()"
   ]
  },
  {
   "attachments": {},
   "cell_type": "markdown",
   "metadata": {},
   "source": [
    "### Utilities"
   ]
  },
  {
   "attachments": {},
   "cell_type": "markdown",
   "metadata": {},
   "source": [
    "We consider the connection of the house, therefore the driveway, road connection and the connection to the infrastructure such as electricity and gas.\n",
    "\n",
    "- `Street`:     Type of road access to property\n",
    "- `Alley`:      Type of alley access to property.\n",
    "- `PavedDrive`: Paved driveway.\n",
    "- `Utilities`:  Type of utilities available."
   ]
  },
  {
   "cell_type": "code",
   "execution_count": null,
   "metadata": {},
   "outputs": [],
   "source": [
    "houses[[\"Street\", \"Alley\", \"Utilities\", \"PavedDrive\"]].info()"
   ]
  },
  {
   "cell_type": "code",
   "execution_count": null,
   "metadata": {},
   "outputs": [],
   "source": [
    "houses[[\"Street\", \"Alley\", \"Utilities\", \"PavedDrive\"]].isna().sum()"
   ]
  },
  {
   "attachments": {},
   "cell_type": "markdown",
   "metadata": {},
   "source": [
    "Missing values in `Alley` represent a missing alley. We will fill these missing values with `None`."
   ]
  },
  {
   "cell_type": "code",
   "execution_count": null,
   "metadata": {},
   "outputs": [],
   "source": [
    "houses[\"Alley\"].fillna(\"None\", inplace=True)"
   ]
  },
  {
   "cell_type": "code",
   "execution_count": null,
   "metadata": {},
   "outputs": [],
   "source": [
    "street_type_counts = houses.groupby(\"Street\")[\"Street\"].count().sort_values(ascending=False)\n",
    "alley_type_counts = houses.groupby(\"Alley\")[\"Alley\"].count().sort_values(ascending=False)\n",
    "\n",
    "fig = plt.figure(figsize=(15, 5))\n",
    "\n",
    "ax1 = fig.add_subplot(1, 2, 1)\n",
    "ax1.set_title(\"Distribution of street types\")\n",
    "ax1.pie(street_type_counts)\n",
    "ax1.legend(labels=street_type_counts.index)\n",
    "\n",
    "ax2 = fig.add_subplot(1, 2, 2)\n",
    "ax2.set_title(\"Distribution of alley types\")\n",
    "ax2.pie(alley_type_counts)\n",
    "ax2.legend(labels=alley_type_counts.index)\n",
    "\n",
    "plt.show()"
   ]
  },
  {
   "cell_type": "code",
   "execution_count": null,
   "metadata": {},
   "outputs": [],
   "source": [
    "utility_type_counts = houses.groupby(\"Utilities\")[\"Utilities\"].count().sort_values(ascending=False)\n",
    "\n",
    "fig = plt.figure(figsize=(10, 5))\n",
    "\n",
    "ax = fig.add_subplot(1, 1, 1)\n",
    "ax.set_title(\"Distribution of utility types\")\n",
    "ax.pie(utility_type_counts)\n",
    "ax.legend(labels=utility_type_counts.index)\n",
    "\n",
    "plt.show()"
   ]
  },
  {
   "attachments": {},
   "cell_type": "markdown",
   "metadata": {},
   "source": [
    "### Neighborhood & Location"
   ]
  },
  {
   "attachments": {},
   "cell_type": "markdown",
   "metadata": {},
   "source": [
    "In this step we take a look at the neighborhood and the social environment of the house.\n",
    "\n",
    "- `MSZoning`:       Identifies the general zoning classification of the sale.\n",
    "- `Neighborhood`:   Physical locations within Ames city limits.\n",
    "- `Condition1`:     Proximity to various conditions.\n",
    "- `Condition2`:     Proximity to various conditions (if more than one is present)."
   ]
  },
  {
   "cell_type": "code",
   "execution_count": null,
   "metadata": {},
   "outputs": [],
   "source": [
    "houses[[\"MSZoning\", \"Neighborhood\", \"Condition1\", \"Condition2\"]].info()"
   ]
  },
  {
   "cell_type": "code",
   "execution_count": null,
   "metadata": {},
   "outputs": [],
   "source": [
    "houses[[\"MSZoning\", \"Neighborhood\", \"Condition1\", \"Condition2\"]].isna().sum()"
   ]
  },
  {
   "cell_type": "code",
   "execution_count": null,
   "metadata": {},
   "outputs": [],
   "source": [
    "houses[\"MSZoning\"].replace({\n",
    "    \"A\": \"Agriculture (A)\",\n",
    "    \"C (all)\": \"Commercial (C)\",\n",
    "    \"FV\": \"Floating Village Residential (FV)\",\n",
    "    \"I\": \"Industrial\",\n",
    "    \"RH\": \"Residential High Density (RH)\",\n",
    "    \"RL\": \"Residential Low Density (RL)\",\n",
    "    \"RP\": \"Residential Low Density Park (RP)\",\n",
    "    \"RM\": \"Residential Medium Density (RM)\"}, inplace=True)"
   ]
  },
  {
   "cell_type": "code",
   "execution_count": null,
   "metadata": {},
   "outputs": [],
   "source": [
    "zoning_type_counts = houses.groupby(\"MSZoning\")[\"MSZoning\"].count().sort_values(ascending=False)\n",
    "\n",
    "fig = plt.figure(figsize=(10, 5))\n",
    "\n",
    "ax = fig.add_subplot(1, 1, 1)\n",
    "ax.set_title(\"Distribution of zoning types\")\n",
    "ax.barh(zoning_type_counts.index, zoning_type_counts)\n",
    "ax.tick_params(axis=\"x\", rotation=90)\n",
    "\n",
    "plt.show()"
   ]
  },
  {
   "cell_type": "code",
   "execution_count": null,
   "metadata": {},
   "outputs": [],
   "source": [
    "neighborhoos_counts = houses.groupby(\"Neighborhood\")[\"Neighborhood\"].count().sort_values(ascending=False)\n",
    "\n",
    "fig = plt.figure(figsize=(10, 5))\n",
    "\n",
    "ax = fig.add_subplot(1, 1, 1)\n",
    "ax.set_title(\"Distribution of neighborhoods\")\n",
    "ax.bar(neighborhoos_counts.index, neighborhoos_counts)\n",
    "ax.tick_params(axis=\"x\", rotation=90)\n",
    "\n",
    "plt.show()"
   ]
  },
  {
   "attachments": {},
   "cell_type": "markdown",
   "metadata": {},
   "source": [
    "### Garage"
   ]
  },
  {
   "attachments": {},
   "cell_type": "markdown",
   "metadata": {},
   "source": [
    "Some of the houses has a separate garage for cars and other vehicles. Let's take a look on it.\n",
    "\n",
    "- `GarageType`:     Garage location.\n",
    "- `GarageYrBlt`:    Year garage was built.\n",
    "- `GarageFinish`:   Interior finish of the garage.\n",
    "- `GarageCars`:     Size of garage in car capacity\n",
    "- `GarageArea`:     Size of garage in square feet\n",
    "- `GarageQual`:     Garage quality\n",
    "- `GarageCond`:     Garage condition"
   ]
  },
  {
   "cell_type": "code",
   "execution_count": null,
   "metadata": {},
   "outputs": [],
   "source": [
    "houses[[\"GarageType\", \"GarageYrBlt\", \"GarageFinish\", \"GarageCars\", \"GarageArea\", \"GarageQual\", \"GarageCond\"]].info()"
   ]
  },
  {
   "cell_type": "code",
   "execution_count": null,
   "metadata": {},
   "outputs": [],
   "source": [
    "houses[[\"GarageType\", \"GarageYrBlt\", \"GarageFinish\", \"GarageCars\", \"GarageArea\", \"GarageQual\", \"GarageCond\"]].isna().sum()"
   ]
  },
  {
   "attachments": {},
   "cell_type": "markdown",
   "metadata": {},
   "source": [
    "As we can see, we've an equal number of missing values over all garage specific columns. One explanation would be that in accordance with the data sheet, missing values represent missing garages. A house has several features that describe the garage. To achieve logical consistency, the garage should exist or be absent for all features of a data point. Hence, we assume that a house has a garage whenever feature `GarageQual` is occupied."
   ]
  },
  {
   "cell_type": "code",
   "execution_count": null,
   "metadata": {},
   "outputs": [],
   "source": [
    "print(\"Number of GarageYrBlt is 'NA' and garage exists: {}\".format(houses[~pd.isna(houses[\"GarageQual\"])][\"GarageYrBlt\"].isna().sum()))\n",
    "print(\"Number of GaragFinish is 'NA' and garage exists: {}\".format(houses[~pd.isna(houses[\"GarageQual\"])][\"GarageFinish\"].isna().sum()))\n",
    "print(\"Number of GarageType is 'NA' and garage exists: {}\".format(houses[~pd.isna(houses[\"GarageQual\"])][\"GarageType\"].isna().sum()))\n",
    "print(\"Number of GarageCond is 'NA' and garage exists: {}\".format(houses[~pd.isna(houses[\"GarageQual\"])][\"GarageCond\"].isna().sum()))\n",
    "print(\"Number of GarageCars is 'NA' and garage exists: {}\".format(houses[~pd.isna(houses[\"GarageQual\"])][\"GarageCars\"].isna().sum()))\n",
    "print(\"Number of GarageArea is 'NA' and garage exists: {}\".format(houses[~pd.isna(houses[\"GarageQual\"])][\"GarageArea\"].isna().sum()))"
   ]
  },
  {
   "attachments": {},
   "cell_type": "markdown",
   "metadata": {},
   "source": [
    "If feature `GarageQual` is not occupied, the remaining features for the garage are filled with `0` or `None`."
   ]
  },
  {
   "cell_type": "code",
   "execution_count": null,
   "metadata": {},
   "outputs": [],
   "source": [
    "houses.loc[houses[\"GarageQual\"].isna(), \"GarageFinish\"] = \"None\"\n",
    "houses.loc[houses[\"GarageQual\"].isna(), \"GarageType\"] = \"None\"\n",
    "houses.loc[houses[\"GarageQual\"].isna(), \"GarageCond\"] = \"None\"\n",
    "houses.loc[houses[\"GarageQual\"].isna(), \"GarageArea\"] = 0\n",
    "houses.loc[houses[\"GarageQual\"].isna(), \"GarageCars\"] = 0\n",
    "houses.loc[houses[\"GarageQual\"].isna(), \"GarageYrBlt\"] = 0\n",
    "houses[\"GarageQual\"].fillna(\"None\", inplace=True)"
   ]
  },
  {
   "cell_type": "code",
   "execution_count": null,
   "metadata": {},
   "outputs": [],
   "source": [
    "houses[[\"GarageType\", \"GarageYrBlt\", \"GarageFinish\", \"GarageCars\", \"GarageArea\", \"GarageQual\", \"GarageCond\"]].isna().sum()"
   ]
  },
  {
   "attachments": {},
   "cell_type": "markdown",
   "metadata": {},
   "source": [
    "### Supplies"
   ]
  },
  {
   "attachments": {},
   "cell_type": "markdown",
   "metadata": {},
   "source": [
    "Next, we look at the available energy sources, the type of heating and the energy infrastructure.\n",
    "\n",
    "- `Heating`:    Type of heating.\n",
    "- `HeatingQC`:  Heating quality and condition.\n",
    "- `CentralAir`: Central air conditioning.\n",
    "- `Electrical`: Electrical system."
   ]
  },
  {
   "cell_type": "code",
   "execution_count": null,
   "metadata": {},
   "outputs": [],
   "source": [
    "houses[[\"Heating\", \"HeatingQC\", \"CentralAir\", \"Electrical\"]].info()"
   ]
  },
  {
   "cell_type": "code",
   "execution_count": null,
   "metadata": {},
   "outputs": [],
   "source": [
    "houses[[\"Heating\", \"HeatingQC\", \"CentralAir\", \"Electrical\"]].isna().sum()"
   ]
  },
  {
   "attachments": {},
   "cell_type": "markdown",
   "metadata": {},
   "source": [
    "Electrical contains missing values. This may be due to the fact that the house has no electrical connection. The dataset documentation does not provide any information on this. We will drop these rows."
   ]
  },
  {
   "attachments": {},
   "cell_type": "markdown",
   "metadata": {},
   "source": [
    "### Basement"
   ]
  },
  {
   "attachments": {},
   "cell_type": "markdown",
   "metadata": {},
   "source": [
    "Some houses also have a basement.\n",
    "\n",
    "- `BsmtQual`:       Evaluates the height of the basement.\n",
    "- `BsmtCond`:       Evaluates the general condition of the basement.\n",
    "- `BsmtExposure`:   Refers to walkout or garden level walls.\n",
    "- `BsmtFinType1`:   Rating of basement finished area.\n",
    "- `BsmtFinSF1`:     Type 1 finished square feet.\n",
    "- `BsmtFinType2`:   Rating of basement finished area (if multiple types).\n",
    "- `BsmtFinSF2`:     Type 2 finished square feet.\n",
    "- `BsmtUnfSF`:      Unfinished square feet of basement area.\n",
    "- `TotalBsmtSF`:    Total square feet of basement area.\n",
    "- `BsmtFullBath`:   Basement full bathrooms.\n",
    "- `BsmtHalfBath`:   Basement half bathrooms."
   ]
  },
  {
   "cell_type": "code",
   "execution_count": null,
   "metadata": {},
   "outputs": [],
   "source": [
    "houses[[\"BsmtQual\", \"BsmtCond\", \"BsmtExposure\", \"BsmtFinType1\", \"BsmtFinSF1\", \"BsmtFinType2\", \"BsmtFinSF2\", \"BsmtUnfSF\", \"TotalBsmtSF\", \"BsmtFullBath\", \"BsmtHalfBath\"]].info()"
   ]
  },
  {
   "cell_type": "code",
   "execution_count": null,
   "metadata": {},
   "outputs": [],
   "source": [
    "houses[[\"BsmtQual\", \"BsmtCond\", \"BsmtExposure\", \"BsmtFinType1\", \"BsmtFinSF1\", \"BsmtFinType2\", \"BsmtFinSF2\", \"BsmtUnfSF\", \"TotalBsmtSF\", \"BsmtFullBath\", \"BsmtHalfBath\"]].isna().sum()"
   ]
  },
  {
   "attachments": {},
   "cell_type": "markdown",
   "metadata": {},
   "source": [
    "According to the documentation, missing valus can be interpreted as missing basements. A house has several features that describe the basement. To achieve logical consistency, the basement should exist or be absent for all features of a data point. Hence, we assume that a house has a basement whenever feature `BsmtQual` is occupied."
   ]
  },
  {
   "cell_type": "code",
   "execution_count": null,
   "metadata": {},
   "outputs": [],
   "source": [
    "print(\"Number of BsmtCond is 'NA' and basement exists: {}\".format(houses[~pd.isna(houses[\"BsmtQual\"])][\"BsmtCond\"].isna().sum()))\n",
    "print(\"Number of BsmtExposure is 'NA' and basement exists: {}\".format(houses[~pd.isna(houses[\"BsmtQual\"])][\"BsmtExposure\"].isna().sum()))\n",
    "print(\"Number of BsmtFinType1 is 'NA' and basement exists: {}\".format(houses[~pd.isna(houses[\"BsmtQual\"])][\"BsmtFinType1\"].isna().sum()))\n",
    "print(\"Number of BsmtFinType2 is 'NA' and basement exists: {}\".format(houses[~pd.isna(houses[\"BsmtQual\"])][\"BsmtFinType2\"].isna().sum()))\n",
    "print(\"Number of BsmtFinSF1 is 'NA' and basement exists: {}\".format(houses[~pd.isna(houses[\"BsmtQual\"])][\"BsmtFinSF1\"].isna().sum()))\n",
    "print(\"Number of BsmtFinSF2 is 'NA' and basement exists: {}\".format(houses[~pd.isna(houses[\"BsmtQual\"])][\"BsmtFinSF2\"].isna().sum()))\n",
    "print(\"Number of BsmtUnfSF is 'NA' and basement exists: {}\".format(houses[~pd.isna(houses[\"BsmtQual\"])][\"BsmtUnfSF\"].isna().sum()))\n",
    "print(\"Number of TotalBsmtSF is 'NA' and basement exists: {}\".format(houses[~pd.isna(houses[\"BsmtQual\"])][\"TotalBsmtSF\"].isna().sum()))\n",
    "print(\"Number of BsmtFullBath is 'NA' and basement exists: {}\".format(houses[~pd.isna(houses[\"BsmtQual\"])][\"BsmtFullBath\"].isna().sum()))\n",
    "print(\"Number of BsmtHalfBath is 'NA' and basement exists: {}\".format(houses[~pd.isna(houses[\"BsmtQual\"])][\"BsmtHalfBath\"].isna().sum()))"
   ]
  },
  {
   "attachments": {},
   "cell_type": "markdown",
   "metadata": {},
   "source": [
    "If feature `BsmtQual` is not occupied, the remaining features for the basement are filled with `0` or `None`."
   ]
  },
  {
   "cell_type": "code",
   "execution_count": null,
   "metadata": {},
   "outputs": [],
   "source": [
    "houses.loc[houses[\"BsmtQual\"].isna(), \"BsmtCond\"] = \"None\"\n",
    "houses.loc[houses[\"BsmtQual\"].isna(), \"BsmtExposure\"] = \"None\"\n",
    "houses.loc[houses[\"BsmtQual\"].isna(), \"BsmtFinType1\"] = \"None\"\n",
    "houses.loc[houses[\"BsmtQual\"].isna(), \"BsmtFinType2\"] = \"None\"\n",
    "houses.loc[houses[\"BsmtQual\"].isna(), \"BsmtFinSF1\"] = 0\n",
    "houses.loc[houses[\"BsmtQual\"].isna(), \"BsmtFinSF2\"] = 0\n",
    "houses.loc[houses[\"BsmtQual\"].isna(), \"BsmtUnfSF\"] = 0\n",
    "houses.loc[houses[\"BsmtQual\"].isna(), \"TotalBsmtSF\"] = 0\n",
    "houses.loc[houses[\"BsmtQual\"].isna(), \"BsmtFullBath\"] = 0\n",
    "houses.loc[houses[\"BsmtQual\"].isna(), \"BsmtHalfBath\"] = 0\n",
    "houses[\"BsmtQual\"].fillna(\"None\", inplace=True)"
   ]
  },
  {
   "attachments": {},
   "cell_type": "markdown",
   "metadata": {},
   "source": [
    "In fact, there seem to be still houses that have a basement according to feature `BsmtQual`, but have missing values in other features related to the basement. This is a logical contradiction."
   ]
  },
  {
   "cell_type": "code",
   "execution_count": null,
   "metadata": {},
   "outputs": [],
   "source": [
    "houses[[\"BsmtQual\", \"BsmtCond\", \"BsmtExposure\", \"BsmtFinType1\", \"BsmtFinSF1\", \"BsmtFinType2\", \"BsmtFinSF2\", \"BsmtUnfSF\", \"TotalBsmtSF\", \"BsmtFullBath\", \"BsmtHalfBath\"]].isna().sum()"
   ]
  },
  {
   "attachments": {},
   "cell_type": "markdown",
   "metadata": {},
   "source": [
    "Because the number of these houses is very small, we will drop these rows."
   ]
  },
  {
   "attachments": {},
   "cell_type": "markdown",
   "metadata": {},
   "source": [
    "### Outdoor area"
   ]
  },
  {
   "attachments": {},
   "cell_type": "markdown",
   "metadata": {},
   "source": [
    "Some houses have a fireplace, pools and more in the garden. This feature will be highlighted next.\n",
    "\n",
    "- `Fireplaces`:     Number of fireplaces.\n",
    "- `FireplaceQu`:    Fireplace quality.\n",
    "- `PoolArea`:       Pool area in square feet.\n",
    "- `PoolQC`:         Pool quality.\n",
    "- `Fence`:          Fence quality.\n",
    "- `MiscFeature`:    Miscellaneous feature not covered in other categories.\n",
    "- `MiscVal`:        $Value of miscellaneous feature.\n",
    "- `WoodDeckSF`:     Wood deck area in square feet.\n",
    "- `OpenPorchSF`:    Open porch area in square feet.\n",
    "- `EnclosedPorch`:  Enclosed porch area in square feet.\n",
    "- `3SsnPorch`:      Three season porch area in square feet.\n",
    "- `ScreenPorch`:    Screen porch area in square feet."
   ]
  },
  {
   "cell_type": "code",
   "execution_count": null,
   "metadata": {},
   "outputs": [],
   "source": [
    "houses[[\"Fireplaces\", \"FireplaceQu\", \"PoolArea\", \"PoolQC\", \"Fence\", \"MiscFeature\", \"MiscVal\", \"WoodDeckSF\", \"OpenPorchSF\", \"EnclosedPorch\", \"3SsnPorch\", \"ScreenPorch\"]].info()"
   ]
  },
  {
   "cell_type": "code",
   "execution_count": null,
   "metadata": {},
   "outputs": [],
   "source": [
    "houses[[\"Fireplaces\", \"FireplaceQu\", \"PoolArea\", \"PoolQC\", \"Fence\", \"MiscFeature\", \"MiscVal\", \"WoodDeckSF\", \"OpenPorchSF\", \"EnclosedPorch\", \"3SsnPorch\", \"ScreenPorch\"]].isna().sum()"
   ]
  },
  {
   "cell_type": "code",
   "execution_count": null,
   "metadata": {},
   "outputs": [],
   "source": [
    "print(\"Number of FireplaceQu is 'NA' and fireplace exists: {}\".format(houses[houses[\"Fireplaces\"] >= 1][\"FireplaceQu\"].isna().sum()))"
   ]
  },
  {
   "attachments": {},
   "cell_type": "markdown",
   "metadata": {},
   "source": [
    "Missing values in `FireplaceQu` represent a missing fireplace. We will fill these missing values with `None`."
   ]
  },
  {
   "cell_type": "code",
   "execution_count": null,
   "metadata": {},
   "outputs": [],
   "source": [
    "houses[\"FireplaceQu\"].fillna(\"None\", inplace=True)"
   ]
  },
  {
   "attachments": {},
   "cell_type": "markdown",
   "metadata": {},
   "source": [
    "Let's check if both properties of the pool are missing. If the values for both properties are missing, this indicates that the pool is missing (the values are missing on purpose). If only one of the two values is missing, there is probably an error in the data. So the question is, are there entries with a lack of pool quality, even though there should be a pool based on the surface area?"
   ]
  },
  {
   "cell_type": "code",
   "execution_count": null,
   "metadata": {},
   "outputs": [],
   "source": [
    "print(\"Number of PoolQC is 'NA' and pool exists: {}\".format(houses[houses[\"PoolArea\"] > 0][\"PoolQC\"].isna().sum()))"
   ]
  },
  {
   "attachments": {},
   "cell_type": "markdown",
   "metadata": {},
   "source": [
    "Missing values in `PoolQC` represent a missing pool. We will fill these missing values with `None`."
   ]
  },
  {
   "cell_type": "code",
   "execution_count": null,
   "metadata": {},
   "outputs": [],
   "source": [
    "houses[\"PoolQC\"].fillna(\"None\", inplace=True)"
   ]
  },
  {
   "attachments": {},
   "cell_type": "markdown",
   "metadata": {},
   "source": [
    "Missing values in `Fence` represent a missing fence. We will fill these missing values with `None`."
   ]
  },
  {
   "cell_type": "code",
   "execution_count": null,
   "metadata": {},
   "outputs": [],
   "source": [
    "houses[\"Fence\"].fillna(\"None\", inplace=True)"
   ]
  },
  {
   "attachments": {},
   "cell_type": "markdown",
   "metadata": {},
   "source": [
    "Missing values in `MiscFeature` represent a missing feature. We will fill these missing values with `None`."
   ]
  },
  {
   "cell_type": "code",
   "execution_count": null,
   "metadata": {},
   "outputs": [],
   "source": [
    "houses[\"MiscFeature\"].fillna(\"None\", inplace=True)"
   ]
  },
  {
   "attachments": {},
   "cell_type": "markdown",
   "metadata": {},
   "source": [
    "### Kitchens"
   ]
  },
  {
   "attachments": {},
   "cell_type": "markdown",
   "metadata": {},
   "source": [
    "Next take a look at available kitchens.\n",
    "\n",
    "- `Kitchen (KitchenAbvGr)`: Kitchens above grade.\n",
    "- `KitchenQual`:            Kitchen quality."
   ]
  },
  {
   "cell_type": "code",
   "execution_count": null,
   "metadata": {},
   "outputs": [],
   "source": [
    "houses[[\"KitchenAbvGr\", \"KitchenQual\"]].info()"
   ]
  },
  {
   "cell_type": "code",
   "execution_count": null,
   "metadata": {},
   "outputs": [],
   "source": [
    "houses[[\"KitchenAbvGr\", \"KitchenQual\"]].isna().sum()"
   ]
  },
  {
   "attachments": {},
   "cell_type": "markdown",
   "metadata": {},
   "source": [
    "### Sale"
   ]
  },
  {
   "attachments": {},
   "cell_type": "markdown",
   "metadata": {},
   "source": [
    "Finally we take a look at the target variable, the sale price. Moreover, we will have a look at the circumstances of the sale.\n",
    "\n",
    "- `SaleType`:   Type of sale.\n",
    "- `SaleCondition`: Condition of sale.\n",
    "- `SalePrice`:  The property's sale price in dollars. This is the target variable that you're trying to predict.\n",
    "- `MoSold`:     Month Sold (MM).\n",
    "- `YrSold`:     Year Sold (YYYY)."
   ]
  },
  {
   "cell_type": "code",
   "execution_count": null,
   "metadata": {},
   "outputs": [],
   "source": [
    "houses[[\"SaleType\", \"SaleCondition\", \"MoSold\", \"YrSold\"]].info()"
   ]
  },
  {
   "cell_type": "code",
   "execution_count": null,
   "metadata": {},
   "outputs": [],
   "source": [
    "houses[[\"SaleType\", \"SaleCondition\", \"MoSold\", \"YrSold\"]].isna().sum()"
   ]
  },
  {
   "cell_type": "code",
   "execution_count": null,
   "metadata": {},
   "outputs": [],
   "source": [
    "fig = plt.figure(figsize=(15, 5))\n",
    "\n",
    "ax = fig.add_subplot(1, 1, 1)\n",
    "ax.set_title(\"Distribution of the sale price\")\n",
    "ax.hist(houses[\"SalePrice\"], bins=50)\n",
    "\n",
    "plt.show()"
   ]
  },
  {
   "cell_type": "code",
   "execution_count": null,
   "metadata": {},
   "outputs": [],
   "source": [
    "houses[\"SalePrice\"].describe()"
   ]
  }
 ],
 "metadata": {
  "kernelspec": {
   "display_name": "Python 3",
   "language": "python",
   "name": "python3"
  },
  "language_info": {
   "codemirror_mode": {
    "name": "ipython",
    "version": 3
   },
   "file_extension": ".py",
   "mimetype": "text/x-python",
   "name": "python",
   "nbconvert_exporter": "python",
   "pygments_lexer": "ipython3",
   "version": "3.10.11"
  },
  "vscode": {
   "interpreter": {
    "hash": "b10113e51827c537a310c16124ad93f70aa94f20d6168d6cc6fc35f5254d928a"
   }
  }
 },
 "nbformat": 4,
 "nbformat_minor": 2
}
